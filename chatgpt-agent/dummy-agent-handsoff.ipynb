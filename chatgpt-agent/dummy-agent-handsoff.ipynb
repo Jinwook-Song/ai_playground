{
 "cells": [
  {
   "cell_type": "code",
   "execution_count": 1,
   "id": "2ecd606b",
   "metadata": {},
   "outputs": [],
   "source": [
    "from agents import Agent, Runner, SQLiteSession\n",
    "\n",
    "session = SQLiteSession(session_id=\"user_3\", db_path=\"ai-memory.db\")\n",
    "\n",
    "\n",
    "geography_agent = Agent(\n",
    "    name=\"Geography Agent\",\n",
    "    model=\"gpt-5-nano-2025-08-07\",\n",
    "    instructions=\"You are a geography agent. Answer the user's question about geography.\",\n",
    "    handoff_description=\"You are a geography agent. Answer the user's question about geography.\",\n",
    ")\n",
    "\n",
    "economics_agent = Agent(\n",
    "    name=\"Economics Agent\",\n",
    "    model=\"gpt-5-nano-2025-08-07\",\n",
    "    instructions=\"You are a economics agent. Answer the user's question about economics.\",\n",
    "    handoff_description=\"You are a economics agent. Answer the user's question about economics.\",\n",
    ")\n",
    "\n",
    "\n",
    "main_agent = Agent(\n",
    "    name=\"Assistant Agent\",\n",
    "    model=\"gpt-5-nano-2025-08-07\",\n",
    "    instructions=\"You are a user facing agent. Transfer to the agent most capable of answering the user's question.\",\n",
    "    handoffs=[geography_agent, economics_agent],\n",
    ")\n"
   ]
  },
  {
   "cell_type": "code",
   "execution_count": 5,
   "id": "48f44af8",
   "metadata": {},
   "outputs": [],
   "source": [
    "result = await Runner.run(\n",
    "    main_agent,\n",
    "    \"Why do countries sell bonds?\",\n",
    "    session=session,\n",
    ")"
   ]
  },
  {
   "cell_type": "code",
   "execution_count": 6,
   "id": "1345b2ce",
   "metadata": {},
   "outputs": [
    {
     "name": "stdout",
     "output_type": "stream",
     "text": [
      "Economics Agent\n",
      "Countries sell bonds primarily to borrow money to fund government spending and operations. Here are the main reasons:\n",
      "\n",
      "- Financing deficits: When a government's expenditures exceed its revenues, it runs a budget deficit. Issuing bonds allows it to borrow to cover the shortfall without raising taxes immediately.\n",
      "- Smoothting receipts: Tax revenues are often uneven over the year. Bond issuance provides a predictable stream of funds to cover ongoing expenses even when revenue is temporarily low.\n",
      "- Public investment: Governments borrow to finance long-term investments (infrastructure, education, research) that can boost future growth and productivity.\n",
      "- Stabilization and management of debt: Issuing bonds helps manage the debt maturity profile, spreading repayments over time to avoid a large lump-sum payment that could disrupt fiscal stability.\n",
      "- Monetary policy considerations: In some cases, bond issuance interacts with monetary policy. Central banks may buy or sell government bonds to influence interest rates and liquidity in the economy.\n",
      "- Market signaling and credibility: Issuing bonds can signal to markets that the government is committed to funding its plans and managing debt sustainably, which can help maintain investor confidence and lower borrowing costs if the country's fiscal trajectory is sound.\n",
      "\n",
      "In addition, bonds are a means for households, banks, pension funds, and other investors to diversify portfolios, provide a safe/liquid asset, and earn a return. Bond yields reflect expectations about inflation, growth, and default risk, and influence how attractive it is for the government to borrow.\n",
      "\n",
      "If you want, I can provide a simple example showing how a budget deficit leads to bond issuance and how that affects interest rates.\n"
     ]
    }
   ],
   "source": [
    "print(result.last_agent.name)\n",
    "print(result.final_output)"
   ]
  }
 ],
 "metadata": {
  "kernelspec": {
   "display_name": ".venv",
   "language": "python",
   "name": "python3"
  },
  "language_info": {
   "codemirror_mode": {
    "name": "ipython",
    "version": 3
   },
   "file_extension": ".py",
   "mimetype": "text/x-python",
   "name": "python",
   "nbconvert_exporter": "python",
   "pygments_lexer": "ipython3",
   "version": "3.12.11"
  }
 },
 "nbformat": 4,
 "nbformat_minor": 5
}
