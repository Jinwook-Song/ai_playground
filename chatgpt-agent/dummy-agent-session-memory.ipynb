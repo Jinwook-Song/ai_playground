{
 "cells": [
  {
   "cell_type": "code",
   "execution_count": 6,
   "id": "5bfc2ea1",
   "metadata": {},
   "outputs": [],
   "source": [
    "from agents import Agent, Runner, function_tool, SQLiteSession\n",
    "\n",
    "session = SQLiteSession(session_id=\"user_2\", db_path=\"ai-memory.db\")\n",
    "\n",
    "\n",
    "@function_tool\n",
    "def get_weather(city: str) -> str:\n",
    "    \"\"\"\n",
    "    Get the weather of a city\n",
    "    Args:\n",
    "        city: The city to get the weather of\n",
    "    Returns:\n",
    "        The weather of the city\n",
    "    \"\"\"\n",
    "    return f\"The weather of {city} is sunny\"\n",
    "\n",
    "\n",
    "agent = Agent(\n",
    "    name=\"Assistant Agent\",\n",
    "    model=\"gpt-5-nano-2025-08-07\",\n",
    "    instructions=\"You are a helpful assistant that can answer questions and help with tasks. Use the tools provided to help the user.\",\n",
    "    tools=[get_weather],\n",
    ")\n"
   ]
  },
  {
   "cell_type": "code",
   "execution_count": 12,
   "id": "e9a5f47d",
   "metadata": {},
   "outputs": [
    {
     "name": "stdout",
     "output_type": "stream",
     "text": [
      "Nice to meet you! From \"I'm a software engineer\" I can’t uniquely identify you beyond your profession. If you want, we can do one of these:\n",
      "\n",
      "- Guessing game: I’ll need more clues (years of experience, domains you work in, languages, projects). Without more clues, I’d only be guessing that you’re a person who builds software.\n",
      "- Quick bio: I can draft a short bio or elevator pitch you can use onLinkedIn, a resume, or a personal site. Tell me your tech stack and focus, and I’ll tailor it.\n",
      "\n",
      "Here are a few ready-to-use templates you can fill in:\n",
      "\n",
      "1) One-liner\n",
      "- I’m a software engineer focused on [domain, e.g., web apps, systems, ML], using [languages/tools, e.g., TypeScript, Python, React, Node.js]. I’m passionate about writing clean, scalable code and shipping value fast.\n",
      "\n",
      "2) Short bio\n",
      "- I’m a software engineer with experience in [domain, e.g., frontend, backend, full-stack] building [type of apps, e.g., scalable web services, data pipelines]. My stack includes [tools/languages], and I enjoy improving developer productivity, code quality, and system reliability.\n",
      "\n",
      "3) Professional summary for a resume\n",
      "- Software Engineer with [X] years of experience in [domains]. Proficient in [languages/tools], with a track record of delivering [impact, e.g., scalable web applications, robust APIs, data-intensive pipelines]. Strong in [soft skills like collaboration, mentoring, problem-solving]. Passionate about [areas like testing, performance optimization, DevOps].\n",
      "\n",
      "If you give me a bit more detail (your tech stack, domain, and a couple of achievements or interests), I’ll tailor a sharper version. Also, if you want to play the guessing game, share 3 clues and I’ll try to guess or propose likely roles you enjoy.\n"
     ]
    }
   ],
   "source": [
    "result = await Runner.run(\n",
    "    agent,\n",
    "    \"Who am I?\",\n",
    "    session=session,\n",
    ")\n",
    "\n",
    "print(result.final_output)\n"
   ]
  },
  {
   "cell_type": "code",
   "execution_count": 11,
   "id": "6b491ac8",
   "metadata": {},
   "outputs": [],
   "source": [
    "await session.add_items(items=[{\"role\": \"user\", \"content\": \"I'm software engineer\"}])"
   ]
  }
 ],
 "metadata": {
  "kernelspec": {
   "display_name": ".venv",
   "language": "python",
   "name": "python3"
  },
  "language_info": {
   "codemirror_mode": {
    "name": "ipython",
    "version": 3
   },
   "file_extension": ".py",
   "mimetype": "text/x-python",
   "name": "python",
   "nbconvert_exporter": "python",
   "pygments_lexer": "ipython3",
   "version": "3.12.11"
  }
 },
 "nbformat": 4,
 "nbformat_minor": 5
}
