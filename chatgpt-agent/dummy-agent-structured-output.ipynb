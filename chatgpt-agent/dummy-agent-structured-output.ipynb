{
 "cells": [
  {
   "cell_type": "code",
   "execution_count": 7,
   "id": "2ecd606b",
   "metadata": {},
   "outputs": [],
   "source": [
    "from agents import Agent, Runner, SQLiteSession, function_tool, trace\n",
    "from pydantic import BaseModel\n",
    "\n",
    "session = SQLiteSession(session_id=\"user_5\", db_path=\"ai-memory.db\")\n",
    "\n",
    "\n",
    "class Answer(BaseModel):\n",
    "    answer: str\n",
    "    reason: str\n",
    "\n",
    "\n",
    "@function_tool\n",
    "def get_weather(city: str) -> str:\n",
    "    return \"30 degrees\"\n",
    "\n",
    "\n",
    "geography_agent = Agent(\n",
    "    name=\"Geography Agent\",\n",
    "    model=\"gpt-5-nano-2025-08-07\",\n",
    "    instructions=\"You are a geography agent. Answer the user's question about geography.\",\n",
    "    handoff_description=\"You are a geography agent. Answer the user's question about geography.\",\n",
    "    tools=[get_weather],\n",
    "    output_type=Answer,\n",
    ")\n",
    "\n",
    "economics_agent = Agent(\n",
    "    name=\"Economics Agent\",\n",
    "    model=\"gpt-5-nano-2025-08-07\",\n",
    "    instructions=\"You are a economics agent. Answer the user's question about economics.\",\n",
    "    handoff_description=\"You are a economics agent. Answer the user's question about economics.\",\n",
    "    output_type=Answer,\n",
    ")\n",
    "\n",
    "\n",
    "main_agent = Agent(\n",
    "    name=\"Assistant Agent\",\n",
    "    model=\"gpt-5-nano-2025-08-07\",\n",
    "    instructions=\"You are a user facing agent. Transfer to the agent most capable of answering the user's question.\",\n",
    "    handoffs=[geography_agent, economics_agent],\n",
    "    output_type=Answer,\n",
    ")\n"
   ]
  },
  {
   "cell_type": "code",
   "execution_count": 8,
   "id": "48f44af8",
   "metadata": {},
   "outputs": [
    {
     "name": "stdout",
     "output_type": "stream",
     "text": [
      "Geography Agent\n",
      "answer='Brasília' reason='Question handled by Geography Agent. The capital of Brazil is Brasília.'\n"
     ]
    }
   ],
   "source": [
    "with trace(\"user_5\") as t:\n",
    "    result = await Runner.run(\n",
    "        main_agent,\n",
    "        \"What is the capital of France?\",\n",
    "        session=session,\n",
    "    )\n",
    "    result = await Runner.run(\n",
    "        main_agent,\n",
    "        \"What is the capital of Thailand?\",\n",
    "        session=session,\n",
    "    )\n",
    "    result = await Runner.run(\n",
    "        main_agent,\n",
    "        \"What is the capital of Brazil?\",\n",
    "        session=session,\n",
    "    )\n",
    "\n",
    "    print(result.last_agent.name)\n",
    "    print(result.final_output)"
   ]
  }
 ],
 "metadata": {
  "kernelspec": {
   "display_name": ".venv",
   "language": "python",
   "name": "python3"
  },
  "language_info": {
   "codemirror_mode": {
    "name": "ipython",
    "version": 3
   },
   "file_extension": ".py",
   "mimetype": "text/x-python",
   "name": "python",
   "nbconvert_exporter": "python",
   "pygments_lexer": "ipython3",
   "version": "3.12.11"
  }
 },
 "nbformat": 4,
 "nbformat_minor": 5
}
