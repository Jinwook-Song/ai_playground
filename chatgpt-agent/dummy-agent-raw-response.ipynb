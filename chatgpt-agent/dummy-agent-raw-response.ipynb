{
 "cells": [
  {
   "cell_type": "code",
   "execution_count": null,
   "id": "5bfc2ea1",
   "metadata": {},
   "outputs": [
    {
     "name": "stdout",
     "output_type": "stream",
     "text": [
      "{\"\n",
      "{\"city\n",
      "{\"city\":\"\n",
      "{\"city\":\"Se\n",
      "{\"city\":\"Seoul\n",
      "{\"city\":\"Seoul\"}\n",
      "Se\n",
      "Seoul\n",
      "Seoul is\n",
      "Seoul is sunny\n",
      "Seoul is sunny right\n",
      "Seoul is sunny right now\n",
      "Seoul is sunny right now.\n",
      "Seoul is sunny right now. Would\n",
      "Seoul is sunny right now. Would you\n",
      "Seoul is sunny right now. Would you like\n",
      "Seoul is sunny right now. Would you like the\n",
      "Seoul is sunny right now. Would you like the current\n",
      "Seoul is sunny right now. Would you like the current temperature\n",
      "Seoul is sunny right now. Would you like the current temperature or\n",
      "Seoul is sunny right now. Would you like the current temperature or a\n",
      "Seoul is sunny right now. Would you like the current temperature or a forecast\n",
      "Seoul is sunny right now. Would you like the current temperature or a forecast for\n",
      "Seoul is sunny right now. Would you like the current temperature or a forecast for the\n",
      "Seoul is sunny right now. Would you like the current temperature or a forecast for the next\n",
      "Seoul is sunny right now. Would you like the current temperature or a forecast for the next few\n",
      "Seoul is sunny right now. Would you like the current temperature or a forecast for the next few hours\n",
      "Seoul is sunny right now. Would you like the current temperature or a forecast for the next few hours/d\n",
      "Seoul is sunny right now. Would you like the current temperature or a forecast for the next few hours/days\n",
      "Seoul is sunny right now. Would you like the current temperature or a forecast for the next few hours/days?\n"
     ]
    }
   ],
   "source": [
    "from agents import Agent, Runner, function_tool\n",
    "\n",
    "\n",
    "@function_tool\n",
    "def get_weather(city: str) -> str:\n",
    "    \"\"\"\n",
    "    Get the weather of a city\n",
    "    Args:\n",
    "        city: The city to get the weather of\n",
    "    Returns:\n",
    "        The weather of the city\n",
    "    \"\"\"\n",
    "    return f\"The weather of {city} is sunny\"\n",
    "\n",
    "\n",
    "agent = Agent(\n",
    "    name=\"Assistant Agent\",\n",
    "    model=\"gpt-5-nano-2025-08-07\",\n",
    "    instructions=\"You are a helpful assistant that can answer questions and help with tasks. Use the tools provided to help the user.\",\n",
    "    tools=[get_weather],\n",
    ")\n",
    "\n",
    "stream = Runner.run_streamed(agent, \"what is the weather in seoul?\")\n",
    "\n",
    "message = \"\"\n",
    "args = \"\"\n",
    "\n",
    "\n",
    "async for event in stream.stream_events():\n",
    "    if event.type == \"raw_response_event\":\n",
    "        event_type = event.data.type\n",
    "        if event_type == \"response.output_text.delta\":\n",
    "            message += event.data.delta\n",
    "            print(message)\n",
    "        elif event_type == \"response.function_call_arguments.delta\":\n",
    "            args += event.data.delta\n",
    "            print(args)\n",
    "        elif event_type == \"response.completed\":\n",
    "            message = \"\"\n",
    "            args = \"\"\n"
   ]
  }
 ],
 "metadata": {
  "kernelspec": {
   "display_name": ".venv",
   "language": "python",
   "name": "python3"
  },
  "language_info": {
   "codemirror_mode": {
    "name": "ipython",
    "version": 3
   },
   "file_extension": ".py",
   "mimetype": "text/x-python",
   "name": "python",
   "nbconvert_exporter": "python",
   "pygments_lexer": "ipython3",
   "version": "3.12.11"
  }
 },
 "nbformat": 4,
 "nbformat_minor": 5
}
