{
 "cells": [
  {
   "cell_type": "code",
   "execution_count": 10,
   "id": "2ecd606b",
   "metadata": {},
   "outputs": [
    {
     "name": "stdout",
     "output_type": "stream",
     "text": [
      "Agent updated to Assistant Agent\n",
      "----------------------------------------------------------------------------------------------------\n",
      "{'arguments': '{\"city\":\"Seoul\"}', 'call_id': 'call_GKuG6oSuvhTDAwZro44m8LcC', 'name': 'get_weather', 'type': 'function_call', 'id': 'fc_015672a790ccb2600068c6be6d96d48196a98f4ee2c8beb529', 'status': 'completed'}\n",
      "----------------------------------------------------------------------------------------------------\n",
      "----------------------------------------------------------------------------------------------------\n",
      "The weather of Seoul is sunny\n",
      "----------------------------------------------------------------------------------------------------\n",
      "----------------------------------------------------------------------------------------------------\n",
      "The weather in Seoul right now is sunny. Want a forecast or current temperature?\n",
      "----------------------------------------------------------------------------------------------------\n"
     ]
    }
   ],
   "source": [
    "from agents import Agent, Runner, function_tool, ItemHelpers\n",
    "\n",
    "\n",
    "@function_tool\n",
    "def get_weather(city: str) -> str:\n",
    "    \"\"\"\n",
    "    Get the weather of a city\n",
    "    Args:\n",
    "        city: The city to get the weather of\n",
    "    Returns:\n",
    "        The weather of the city\n",
    "    \"\"\"\n",
    "    return f\"The weather of {city} is sunny\"\n",
    "\n",
    "\n",
    "agent = Agent(\n",
    "    name=\"Assistant Agent\",\n",
    "    model=\"gpt-5-nano-2025-08-07\",\n",
    "    instructions=\"You are a helpful assistant that can answer questions and help with tasks. Use the tools provided to help the user.\",\n",
    "    tools=[get_weather],\n",
    ")\n",
    "\n",
    "stream = Runner.run_streamed(agent, \"what is the weather in seoul?\")\n",
    "\n",
    "\n",
    "async for event in stream.stream_events():\n",
    "    if event.type == \"raw_response_event\":\n",
    "        continue\n",
    "    elif event.type == \"agent_updated_stream_event\":\n",
    "        print(\"Agent updated to\", event.new_agent.name)\n",
    "    elif event.type == \"run_item_stream_event\":\n",
    "        if event.item.type == \"tool_call_item\":\n",
    "            print(event.item.raw_item.to_dict())\n",
    "        elif event.item.type == \"tool_call_output_item\":\n",
    "            print(event.item.output)\n",
    "        elif event.item.type == \"message_output_item\":\n",
    "            print(ItemHelpers.text_message_output(event.item))\n",
    "\n",
    "    print(\"-\" * 100)"
   ]
  }
 ],
 "metadata": {
  "kernelspec": {
   "display_name": ".venv",
   "language": "python",
   "name": "python3"
  },
  "language_info": {
   "codemirror_mode": {
    "name": "ipython",
    "version": 3
   },
   "file_extension": ".py",
   "mimetype": "text/x-python",
   "name": "python",
   "nbconvert_exporter": "python",
   "pygments_lexer": "ipython3",
   "version": "3.12.11"
  }
 },
 "nbformat": 4,
 "nbformat_minor": 5
}
