{
 "cells": [
  {
   "cell_type": "code",
   "execution_count": 8,
   "id": "2ecd606b",
   "metadata": {},
   "outputs": [
    {
     "name": "stdout",
     "output_type": "stream",
     "text": [
      "Agent updated to Assistant Agent\n",
      "----------------------------------------------------------------------------------------------------\n",
      "tool_call_item\n",
      "----------------------------------------------------------------------------------------------------\n",
      "Getting weather for Seoul\n",
      "reasoning_item\n",
      "----------------------------------------------------------------------------------------------------\n",
      "tool_call_output_item\n",
      "----------------------------------------------------------------------------------------------------\n",
      "reasoning_item\n",
      "----------------------------------------------------------------------------------------------------\n",
      "message_output_item\n",
      "----------------------------------------------------------------------------------------------------\n"
     ]
    }
   ],
   "source": [
    "from agents import Agent, Runner, function_tool\n",
    "\n",
    "\n",
    "@function_tool\n",
    "def get_weather(city: str) -> str:\n",
    "    \"\"\"\n",
    "    Get the weather of a city\n",
    "    Args:\n",
    "        city: The city to get the weather of\n",
    "    Returns:\n",
    "        The weather of the city\n",
    "    \"\"\"\n",
    "    print(f\"Getting weather for {city}\")\n",
    "    return f\"The weather of {city} is sunny\"\n",
    "\n",
    "\n",
    "agent = Agent(\n",
    "    name=\"Assistant Agent\",\n",
    "    model=\"gpt-5-nano-2025-08-07\",\n",
    "    instructions=\"You are a helpful assistant that can answer questions and help with tasks. Use the tools provided to help the user.\",\n",
    "    tools=[get_weather],\n",
    ")\n",
    "\n",
    "stream = Runner.run_streamed(agent, \"what is the weather in seoul?\")\n",
    "\n",
    "\n",
    "async for event in stream.stream_events():\n",
    "    if event.type == \"raw_response_event\":\n",
    "        continue\n",
    "    elif event.type == \"agent_updated_stream_event\":\n",
    "        print(\"Agent updated to\", event.new_agent.name)\n",
    "    elif event.type == \"run_item_stream_event\":\n",
    "        print(event.item.type)\n",
    "    print(\"-\" * 100)"
   ]
  }
 ],
 "metadata": {
  "kernelspec": {
   "display_name": ".venv",
   "language": "python",
   "name": "python3"
  },
  "language_info": {
   "codemirror_mode": {
    "name": "ipython",
    "version": 3
   },
   "file_extension": ".py",
   "mimetype": "text/x-python",
   "name": "python",
   "nbconvert_exporter": "python",
   "pygments_lexer": "ipython3",
   "version": "3.12.11"
  }
 },
 "nbformat": 4,
 "nbformat_minor": 5
}
