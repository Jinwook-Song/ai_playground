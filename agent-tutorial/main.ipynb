{
 "cells": [
  {
   "cell_type": "code",
   "execution_count": 41,
   "metadata": {},
   "outputs": [],
   "source": [
    "import openai\n",
    "import json\n",
    "\n",
    "client = openai.OpenAI()\n",
    "messages = []"
   ]
  },
  {
   "cell_type": "code",
   "execution_count": 42,
   "metadata": {},
   "outputs": [],
   "source": [
    "def get_weather(city):\n",
    "    return f\"The weather in {city} is sunny.\"\n",
    "\n",
    "\n",
    "FUNCTION_MAP = {\n",
    "    \"get_weather\": get_weather,\n",
    "}\n"
   ]
  },
  {
   "cell_type": "code",
   "execution_count": 43,
   "metadata": {},
   "outputs": [],
   "source": [
    "TOOLS = [\n",
    "    {\n",
    "        \"type\": \"function\",\n",
    "        \"function\": {\n",
    "            \"name\": \"get_weather\",\n",
    "            \"description\": \"Get the weather in a given city\",\n",
    "            \"parameters\": {\n",
    "                \"type\": \"object\",\n",
    "                \"properties\": {\n",
    "                    \"city\": {\n",
    "                        \"type\": \"string\",\n",
    "                        \"description\": \"The name of the city to get the weather for\",\n",
    "                    }\n",
    "                },\n",
    "                \"required\": [\"city\"],\n",
    "            },\n",
    "        },\n",
    "    }\n",
    "]"
   ]
  },
  {
   "cell_type": "code",
   "execution_count": 44,
   "metadata": {},
   "outputs": [],
   "source": [
    "from openai.types.chat import ChatCompletionMessage\n",
    "\n",
    "\n",
    "def process_ai_response(message: ChatCompletionMessage):\n",
    "    if message.tool_calls and len(message.tool_calls) > 0:\n",
    "        messages.append(\n",
    "            {\n",
    "                \"role\": \"assistant\",\n",
    "                \"content\": message.content or \"\",\n",
    "                \"tool_calls\": [\n",
    "                    {\n",
    "                        \"id\": tool_call.id,\n",
    "                        \"type\": \"function\",\n",
    "                        \"function\": {\n",
    "                            \"name\": tool_call.function.name,\n",
    "                            \"arguments\": tool_call.function.arguments,\n",
    "                        },\n",
    "                    }\n",
    "                    for tool_call in message.tool_calls\n",
    "                ],\n",
    "            }\n",
    "        )\n",
    "\n",
    "        for tool_call in message.tool_calls:\n",
    "            function_name = tool_call.function.name\n",
    "            arguments = tool_call.function.arguments\n",
    "\n",
    "            print(f\"Calling function: '{function_name}' with arguments: {arguments}\")\n",
    "\n",
    "            try:\n",
    "                arguments = json.loads(arguments)\n",
    "            except json.JSONDecodeError:\n",
    "                print(f\"Error parsing arguments: {arguments}\")\n",
    "                arguments = {}\n",
    "\n",
    "            function_result = FUNCTION_MAP[function_name](**arguments)\n",
    "            print(f\"Function result: {function_result}\")\n",
    "\n",
    "            messages.append(\n",
    "                {\n",
    "                    \"role\": \"tool\",\n",
    "                    \"tool_call_id\": tool_call.id,\n",
    "                    \"name\": function_name,\n",
    "                    \"content\": function_result,\n",
    "                }\n",
    "            )\n",
    "\n",
    "        call_ai()\n",
    "\n",
    "    else:\n",
    "        messages.append({\"role\": \"assistant\", \"content\": message.content})\n",
    "        print(f\"Assistant: {message.content}\")\n",
    "\n",
    "\n",
    "def call_ai():\n",
    "    response = client.chat.completions.create(\n",
    "        model=\"gpt-5-nano-2025-08-07\",\n",
    "        messages=messages,\n",
    "        tools=TOOLS,\n",
    "    )\n",
    "\n",
    "    process_ai_response(response.choices[0].message)\n"
   ]
  },
  {
   "cell_type": "code",
   "execution_count": 45,
   "metadata": {},
   "outputs": [
    {
     "name": "stdout",
     "output_type": "stream",
     "text": [
      "User: my name is jinwook\n",
      "Assistant: Nice to meet you, Jinwook. How can I help you today? I can use your name in this chat if you’d like. If you need something specific, just tell me what it is (e.g., weather, planning, answering questions, translations).\n",
      "User: what is the weather in Korea\n",
      "Assistant: Weather in Korea varies by city, so I need a specific city to give you an accurate update.\n",
      "\n",
      "Which city would you like the weather for? Seoul is a common choice, but I can fetch any city (e.g., Busan, Daegu, Incheon, etc.).\n",
      "\n",
      "If you want, I can grab Seoul's current weather right now.\n",
      "User: Daejeon\n",
      "Calling function: 'get_weather' with arguments: {\"city\":\"Daejeon\"}\n",
      "Function result: The weather in Daejeon is sunny.\n",
      "Assistant: Currently sunny in Daejeon. Want the temperature and humidity, or a short forecast for the next few hours or days? I can also check another city if you’d like.\n"
     ]
    }
   ],
   "source": [
    "while True:\n",
    "    message = input(\"Send a message to the LLM...\")\n",
    "    if message == \"quit\" or message == \"q\":\n",
    "        break\n",
    "    else:\n",
    "        messages.append({\"role\": \"user\", \"content\": message})\n",
    "        print(f\"User: {message}\")\n",
    "        call_ai()\n"
   ]
  },
  {
   "cell_type": "code",
   "execution_count": 46,
   "metadata": {},
   "outputs": [
    {
     "data": {
      "text/plain": [
       "[{'role': 'user', 'content': 'my name is jinwook'},\n",
       " {'role': 'assistant',\n",
       "  'content': 'Nice to meet you, Jinwook. How can I help you today? I can use your name in this chat if you’d like. If you need something specific, just tell me what it is (e.g., weather, planning, answering questions, translations).'},\n",
       " {'role': 'user', 'content': 'what is the weather in Korea'},\n",
       " {'role': 'assistant',\n",
       "  'content': \"Weather in Korea varies by city, so I need a specific city to give you an accurate update.\\n\\nWhich city would you like the weather for? Seoul is a common choice, but I can fetch any city (e.g., Busan, Daegu, Incheon, etc.).\\n\\nIf you want, I can grab Seoul's current weather right now.\"},\n",
       " {'role': 'user', 'content': 'Daejeon'},\n",
       " {'role': 'assistant',\n",
       "  'content': '',\n",
       "  'tool_calls': [{'id': 'call_8psApIIozqRYk6BHA29X4SS8',\n",
       "    'type': 'function',\n",
       "    'function': {'name': 'get_weather', 'arguments': '{\"city\":\"Daejeon\"}'}}]},\n",
       " {'role': 'tool',\n",
       "  'tool_call_id': 'call_8psApIIozqRYk6BHA29X4SS8',\n",
       "  'name': 'get_weather',\n",
       "  'content': 'The weather in Daejeon is sunny.'},\n",
       " {'role': 'assistant',\n",
       "  'content': 'Currently sunny in Daejeon. Want the temperature and humidity, or a short forecast for the next few hours or days? I can also check another city if you’d like.'}]"
      ]
     },
     "execution_count": 46,
     "metadata": {},
     "output_type": "execute_result"
    }
   ],
   "source": [
    "messages"
   ]
  }
 ],
 "metadata": {
  "kernelspec": {
   "display_name": ".venv",
   "language": "python",
   "name": "python3"
  },
  "language_info": {
   "codemirror_mode": {
    "name": "ipython",
    "version": 3
   },
   "file_extension": ".py",
   "mimetype": "text/x-python",
   "name": "python",
   "nbconvert_exporter": "python",
   "pygments_lexer": "ipython3",
   "version": "3.11.13"
  }
 },
 "nbformat": 4,
 "nbformat_minor": 2
}
