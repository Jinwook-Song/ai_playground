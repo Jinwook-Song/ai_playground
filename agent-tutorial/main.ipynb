{
 "cells": [
  {
   "cell_type": "code",
   "execution_count": 1,
   "metadata": {},
   "outputs": [],
   "source": [
    "import openai\n",
    "import json\n",
    "\n",
    "client = openai.OpenAI()\n",
    "messages = []"
   ]
  },
  {
   "cell_type": "code",
   "execution_count": 2,
   "metadata": {},
   "outputs": [],
   "source": [
    "def get_weather(city):\n",
    "    return f\"The weather in {city} is sunny.\"\n",
    "\n",
    "\n",
    "FUNCTION_MAP = {\n",
    "    \"get_weather\": get_weather,\n",
    "}\n"
   ]
  },
  {
   "cell_type": "code",
   "execution_count": 3,
   "metadata": {},
   "outputs": [],
   "source": [
    "TOOLS = [\n",
    "    {\n",
    "        \"type\": \"function\",\n",
    "        \"function\": {\n",
    "            \"name\": \"get_weather\",\n",
    "            \"description\": \"Get the weather in a given city\",\n",
    "            \"parameters\": {\n",
    "                \"type\": \"object\",\n",
    "                \"properties\": {\n",
    "                    \"city\": {\n",
    "                        \"type\": \"string\",\n",
    "                        \"description\": \"The name of the city to get the weather for\",\n",
    "                    }\n",
    "                },\n",
    "                \"required\": [\"city\"],\n",
    "            },\n",
    "        },\n",
    "    }\n",
    "]"
   ]
  },
  {
   "cell_type": "code",
   "execution_count": 4,
   "metadata": {},
   "outputs": [],
   "source": [
    "from openai.types.chat import ChatCompletionMessage\n",
    "\n",
    "\n",
    "def process_ai_response(message: ChatCompletionMessage):\n",
    "    if message.tool_calls and len(message.tool_calls) > 0:\n",
    "        messages.append(\n",
    "            {\n",
    "                \"role\": \"assistant\",\n",
    "                \"content\": message.content or \"\",\n",
    "                \"tool_calls\": [\n",
    "                    {\n",
    "                        \"id\": tool_call.id,\n",
    "                        \"type\": \"function\",\n",
    "                        \"function\": {\n",
    "                            \"name\": tool_call.function.name,\n",
    "                            \"arguments\": tool_call.function.arguments,\n",
    "                        },\n",
    "                    }\n",
    "                    for tool_call in message.tool_calls\n",
    "                ],\n",
    "            }\n",
    "        )\n",
    "\n",
    "        for tool_call in message.tool_calls:\n",
    "            function_name = tool_call.function.name\n",
    "            arguments = tool_call.function.arguments\n",
    "\n",
    "            print(f\"Calling function: '{function_name}' with arguments: {arguments}\")\n",
    "\n",
    "            try:\n",
    "                arguments = json.loads(arguments)\n",
    "            except json.JSONDecodeError:\n",
    "                print(f\"Error parsing arguments: {arguments}\")\n",
    "                arguments = {}\n",
    "\n",
    "            function_result = FUNCTION_MAP[function_name](**arguments)\n",
    "            print(f\"Function result: {function_result}\")\n",
    "\n",
    "            messages.append(\n",
    "                {\n",
    "                    \"role\": \"tool\",\n",
    "                    \"tool_call_id\": tool_call.id,\n",
    "                    \"name\": function_name,\n",
    "                    \"content\": function_result,\n",
    "                }\n",
    "            )\n",
    "\n",
    "        call_ai()\n",
    "\n",
    "    else:\n",
    "        messages.append({\"role\": \"assistant\", \"content\": message.content})\n",
    "        print(f\"Assistant: {message.content}\")\n",
    "\n",
    "\n",
    "def call_ai():\n",
    "    response = client.chat.completions.create(\n",
    "        model=\"gpt-5-nano-2025-08-07\",\n",
    "        messages=messages,\n",
    "        tools=TOOLS,\n",
    "    )\n",
    "\n",
    "    process_ai_response(response.choices[0].message)\n"
   ]
  },
  {
   "cell_type": "code",
   "execution_count": 5,
   "metadata": {},
   "outputs": [
    {
     "name": "stdout",
     "output_type": "stream",
     "text": [
      "User: 안녕, 나는 송진욱이야\n",
      "Assistant: 반갑습니다, 송진욱님! 오늘은 어떻게 도와드릴까요? 원하시는 것이 있으면 말씀해 주세요. 예를 들면 날씨 확인, 일정 관리, 번역, 정보 검색, 글쓰기 도움 등 어떤 것이든 도와드리겠습니다. 편하신 호칭이 있다면 알려 주세요.\n",
      "User: 일본 날씨 알려줘\n",
      "Assistant: 일본의 어느 도시의 날씨를 원하시는가요? 도시 이름을 하나 알려 주세요. 예: 도쿄, 오사카, 삿포로, 나고야, 교토, 후쿠오카 등. 여러 도시를 함께 알고 싶으시면 도시 이름을 쉼표로 구분해 주세요. 도시를 알려주시면 현재 기온과 오늘/주간 예보를 알려드리겠습니다.\n",
      "User: 후쿠오카\n",
      "Calling function: 'get_weather' with arguments: {\"city\":\"후쿠오카\"}\n",
      "Function result: The weather in 후쿠오카 is sunny.\n",
      "Assistant: 후쿠오카의 현재 날씨는 맑습니다.\n",
      "\n",
      "원하시면 현재 기온이나 체감온도, 오늘/주간 예보 등 자세한 정보를 함께 알려드릴게요. 시간대별 예보나 비 올 확률도 확인해 드립니다. 다른 도시의 날씨도 필요하시면 말씀해 주세요.\n"
     ]
    }
   ],
   "source": [
    "while True:\n",
    "    message = input(\"Send a message to the LLM...\")\n",
    "    if message == \"quit\" or message == \"q\":\n",
    "        break\n",
    "    else:\n",
    "        messages.append({\"role\": \"user\", \"content\": message})\n",
    "        print(f\"User: {message}\")\n",
    "        call_ai()\n"
   ]
  },
  {
   "cell_type": "code",
   "execution_count": 6,
   "metadata": {},
   "outputs": [
    {
     "data": {
      "text/plain": [
       "[{'role': 'user', 'content': '안녕, 나는 송진욱이야'},\n",
       " {'role': 'assistant',\n",
       "  'content': '반갑습니다, 송진욱님! 오늘은 어떻게 도와드릴까요? 원하시는 것이 있으면 말씀해 주세요. 예를 들면 날씨 확인, 일정 관리, 번역, 정보 검색, 글쓰기 도움 등 어떤 것이든 도와드리겠습니다. 편하신 호칭이 있다면 알려 주세요.'},\n",
       " {'role': 'user', 'content': '일본 날씨 알려줘'},\n",
       " {'role': 'assistant',\n",
       "  'content': '일본의 어느 도시의 날씨를 원하시는가요? 도시 이름을 하나 알려 주세요. 예: 도쿄, 오사카, 삿포로, 나고야, 교토, 후쿠오카 등. 여러 도시를 함께 알고 싶으시면 도시 이름을 쉼표로 구분해 주세요. 도시를 알려주시면 현재 기온과 오늘/주간 예보를 알려드리겠습니다.'},\n",
       " {'role': 'user', 'content': '후쿠오카'},\n",
       " {'role': 'assistant',\n",
       "  'content': '',\n",
       "  'tool_calls': [{'id': 'call_BvfpG9XcXbLTVy71ZiUTatyg',\n",
       "    'type': 'function',\n",
       "    'function': {'name': 'get_weather', 'arguments': '{\"city\":\"후쿠오카\"}'}}]},\n",
       " {'role': 'tool',\n",
       "  'tool_call_id': 'call_BvfpG9XcXbLTVy71ZiUTatyg',\n",
       "  'name': 'get_weather',\n",
       "  'content': 'The weather in 후쿠오카 is sunny.'},\n",
       " {'role': 'assistant',\n",
       "  'content': '후쿠오카의 현재 날씨는 맑습니다.\\n\\n원하시면 현재 기온이나 체감온도, 오늘/주간 예보 등 자세한 정보를 함께 알려드릴게요. 시간대별 예보나 비 올 확률도 확인해 드립니다. 다른 도시의 날씨도 필요하시면 말씀해 주세요.'}]"
      ]
     },
     "execution_count": 6,
     "metadata": {},
     "output_type": "execute_result"
    }
   ],
   "source": [
    "messages"
   ]
  }
 ],
 "metadata": {
  "kernelspec": {
   "display_name": ".venv",
   "language": "python",
   "name": "python3"
  },
  "language_info": {
   "codemirror_mode": {
    "name": "ipython",
    "version": 3
   },
   "file_extension": ".py",
   "mimetype": "text/x-python",
   "name": "python",
   "nbconvert_exporter": "python",
   "pygments_lexer": "ipython3",
   "version": "3.11.13"
  }
 },
 "nbformat": 4,
 "nbformat_minor": 2
}
